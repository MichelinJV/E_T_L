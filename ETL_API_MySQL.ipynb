{
 "cells": [
  {
   "cell_type": "markdown",
   "metadata": {},
   "source": [
    "# *ETL usando API "
   ]
  },
  {
   "cell_type": "markdown",
   "metadata": {},
   "source": [
    "ETL é um conjunto de instruções de computador que trata da extração de dados de seu sistema de origem, transformação de dados para atender a várias necessidades de inteligência de negócios e carregamento de dados em alguns sistemas de destino. \r\n",
    "\r\n",
    "API significa interface de programação de aplicativo. Em essência, uma API atua como uma camada de comunicação, ou como o nome diz, uma interface, que permite que diferentes sistemas conversem entre si sem ter que entender exatamente o que cada um faz. Uma das coleções mais legais de APIs publicamente disponíveis é a fornecida pela NASA. O objetivo do site é tornar os dados da NASA, incluindo imagens, eminentemente acessíveis aos desenvolvedores de aplicativos. \r\n",
    "\r\n",
    "MySQL é um sistema gerenciador de banco de dados relacional de código aberto usado na maioria das aplicações gratuitas para gerir suas bases de dados. O serviço utiliza a linguagem SQL (Structure Query Language – Linguagem de Consulta Estruturada), que é a linguagem mais popular para inserir, acessar e gerenciar o conteúdo armazenado num banco de dados."
   ]
  },
  {
   "cell_type": "markdown",
   "metadata": {},
   "source": [
    "## Objetivo\r\n",
    "\r\n",
    "Criar um pipeline ETL onde retiramos dados de um API da NASA sobre ejeção de massa coronal, transformamos e limpamos os dados em uma nova tabela e, por último, carregamos os dados no banco de dados MySQL."
   ]
  },
  {
   "cell_type": "code",
   "execution_count": 16,
   "metadata": {},
   "outputs": [],
   "source": [
    "# importando as bibliotecas\r\n",
    "import numpy as np\r\n",
    "import pandas as pd \r\n",
    "from datetime import datetime\r\n",
    "import json\r\n",
    "from pandas import json_normalize\r\n",
    "import requests\r\n",
    "import re\r\n",
    "\r\n",
    "import mysql.connector\r\n",
    "from mysql.connector import Error, connect"
   ]
  },
  {
   "cell_type": "markdown",
   "metadata": {},
   "source": [
    "## 1. Conectando-se e Extraindo os Dados"
   ]
  },
  {
   "cell_type": "markdown",
   "metadata": {},
   "source": [
    "A primeira etapa é conectar-se aos dados. "
   ]
  },
  {
   "cell_type": "code",
   "execution_count": 2,
   "metadata": {},
   "outputs": [],
   "source": [
    "# endereço do site\r\n",
    "url = \"https://api.nasa.gov/DONKI/CME?\""
   ]
  },
  {
   "cell_type": "markdown",
   "metadata": {},
   "source": [
    "Embora muitas APIs públicas sejam gratuitas e completamente públicas, um número ainda maior de APIs está disponível por trás de alguma forma de autenticação. O nível mais comum de autenticação é a chave API. Essas chaves são usadas para identificá-lo como um usuário ou cliente da API e para rastrear seu uso da API. As chaves de API são normalmente enviadas como um cabeçalho de solicitação ou como um parâmetro de consulta. Para nossos fins, podemos usar a chave API DEMO_KEY que a NASA fornece por padrão. "
   ]
  },
  {
   "cell_type": "code",
   "execution_count": 3,
   "metadata": {},
   "outputs": [],
   "source": [
    "param = {\"api_key\":\"DEMO_KEY\",\n",
    "        \"startDate\":\"2020-01-01\",\n",
    "        \"endDate\":\"2021-06-01\"}"
   ]
  },
  {
   "cell_type": "markdown",
   "metadata": {},
   "source": [
    "A biblioteca 'request' busca e pega os dados da URL."
   ]
  },
  {
   "cell_type": "code",
   "execution_count": 4,
   "metadata": {},
   "outputs": [],
   "source": [
    "# chamamos a API\r\n",
    "response = requests.get(url,params=param)"
   ]
  },
  {
   "cell_type": "markdown",
   "metadata": {},
   "source": [
    "Os códigos de status são uma das informações mais importantes a serem procuradas em qualquer resposta da API. Eles informam se sua solicitação foi bem-sucedida, se faltam dados, se faltam credenciais e assim por diante. Para o requerimento ser sucesso precisamos de um códico de acesso 200.\r\n",
    "\r\n",
    "Por questão de confirmação da busca, podemos exibir o primeiro elemento do conteúdo de dados no formato JSON."
   ]
  },
  {
   "cell_type": "code",
   "execution_count": 5,
   "metadata": {},
   "outputs": [
    {
     "name": "stdout",
     "output_type": "stream",
     "text": [
      "200\n",
      "{'activityID': '2020-01-05T16:45:00-CME-001', 'catalog': 'M2M_CATALOG', 'startTime': '2020-01-05T16:45Z', 'sourceLocation': '', 'activeRegionNum': None, 'link': 'https://kauai.ccmc.gsfc.nasa.gov/DONKI/view/CME/15256/-1', 'note': 'The source is likely a field line opening seen at 09:45Z on the western limb in EUVIA 195.', 'instruments': [{'displayName': 'STEREO A: SECCHI/COR2'}, {'displayName': 'SOHO: LASCO/C2'}, {'displayName': 'SOHO: LASCO/C3'}], 'cmeAnalyses': [{'time21_5': '2020-01-06T16:13Z', 'latitude': -2.0, 'longitude': 9.0, 'halfAngle': 19.0, 'speed': 227.0, 'type': 'S', 'isMostAccurate': True, 'note': '', 'levelOfData': 0, 'link': 'https://kauai.ccmc.gsfc.nasa.gov/DONKI/view/CMEAnalysis/15257/-1', 'enlilList': [{'modelCompletionTime': '2020-01-06T21:23Z', 'au': 2.0, 'estimatedShockArrivalTime': None, 'estimatedDuration': None, 'rmin_re': None, 'kp_18': None, 'kp_90': None, 'kp_135': None, 'kp_180': None, 'isEarthGB': False, 'link': 'https://kauai.ccmc.gsfc.nasa.gov/DONKI/view/WSA-ENLIL/15258/-1', 'impactList': None, 'cmeIDs': ['2020-01-05T16:45:00-CME-001']}]}], 'linkedEvents': None}\n"
     ]
    }
   ],
   "source": [
    "# imprime o status code\r\n",
    "print(response.status_code)\r\n",
    "\r\n",
    "print(response.json()[0])"
   ]
  },
  {
   "cell_type": "markdown",
   "metadata": {},
   "source": [
    "Temos agora que decodificar os dados do formato JSON para CSV."
   ]
  },
  {
   "cell_type": "code",
   "execution_count": 8,
   "metadata": {},
   "outputs": [],
   "source": [
    "# decodifica os dados JSON para Python\r\n",
    "data = json.loads(response.text)\r\n",
    "# Normalizar dados JSON semiestruturados em uma tabela plana \r\n",
    "df = json_normalize(data)\r\n",
    "# configura para formato csv\r\n",
    "df.to_csv('upload_file.csv', index = False)"
   ]
  },
  {
   "cell_type": "markdown",
   "metadata": {},
   "source": [
    "## 2. Processando e Transformando os Dados"
   ]
  },
  {
   "cell_type": "markdown",
   "metadata": {},
   "source": [
    "Deposse dos dados, podemos fazer as alterações para selecionar apenas algumas informações desejadas."
   ]
  },
  {
   "cell_type": "code",
   "execution_count": 9,
   "metadata": {},
   "outputs": [
    {
     "name": "stdout",
     "output_type": "stream",
     "text": [
      "(277, 10)\n"
     ]
    },
    {
     "data": {
      "text/html": [
       "<div>\n",
       "<style scoped>\n",
       "    .dataframe tbody tr th:only-of-type {\n",
       "        vertical-align: middle;\n",
       "    }\n",
       "\n",
       "    .dataframe tbody tr th {\n",
       "        vertical-align: top;\n",
       "    }\n",
       "\n",
       "    .dataframe thead th {\n",
       "        text-align: right;\n",
       "    }\n",
       "</style>\n",
       "<table border=\"1\" class=\"dataframe\">\n",
       "  <thead>\n",
       "    <tr style=\"text-align: right;\">\n",
       "      <th></th>\n",
       "      <th>activityID</th>\n",
       "      <th>catalog</th>\n",
       "      <th>startTime</th>\n",
       "      <th>sourceLocation</th>\n",
       "      <th>activeRegionNum</th>\n",
       "      <th>link</th>\n",
       "      <th>note</th>\n",
       "      <th>instruments</th>\n",
       "      <th>cmeAnalyses</th>\n",
       "      <th>linkedEvents</th>\n",
       "    </tr>\n",
       "  </thead>\n",
       "  <tbody>\n",
       "    <tr>\n",
       "      <th>0</th>\n",
       "      <td>2020-01-05T16:45:00-CME-001</td>\n",
       "      <td>M2M_CATALOG</td>\n",
       "      <td>2020-01-05T16:45Z</td>\n",
       "      <td>NaN</td>\n",
       "      <td>NaN</td>\n",
       "      <td>https://kauai.ccmc.gsfc.nasa.gov/DONKI/view/CM...</td>\n",
       "      <td>The source is likely a field line opening seen...</td>\n",
       "      <td>[{'displayName': 'STEREO A: SECCHI/COR2'}, {'d...</td>\n",
       "      <td>[{'time21_5': '2020-01-06T16:13Z', 'latitude':...</td>\n",
       "      <td>NaN</td>\n",
       "    </tr>\n",
       "    <tr>\n",
       "      <th>1</th>\n",
       "      <td>2020-01-14T11:09:00-CME-001</td>\n",
       "      <td>M2M_CATALOG</td>\n",
       "      <td>2020-01-14T11:09Z</td>\n",
       "      <td>S05W20</td>\n",
       "      <td>NaN</td>\n",
       "      <td>https://kauai.ccmc.gsfc.nasa.gov/DONKI/view/CM...</td>\n",
       "      <td>It is a super small, narrow and weak CME. The ...</td>\n",
       "      <td>[{'displayName': 'STEREO A: SECCHI/COR2'}]</td>\n",
       "      <td>[{'time21_5': '2020-01-15T03:44Z', 'latitude':...</td>\n",
       "      <td>NaN</td>\n",
       "    </tr>\n",
       "    <tr>\n",
       "      <th>2</th>\n",
       "      <td>2020-01-18T20:12:00-CME-001</td>\n",
       "      <td>M2M_CATALOG</td>\n",
       "      <td>2020-01-18T20:12Z</td>\n",
       "      <td>NaN</td>\n",
       "      <td>NaN</td>\n",
       "      <td>https://kauai.ccmc.gsfc.nasa.gov/DONKI/view/CM...</td>\n",
       "      <td>The source is unclear and the longitude is an ...</td>\n",
       "      <td>[{'displayName': 'SOHO: LASCO/C2'}, {'displayN...</td>\n",
       "      <td>[{'time21_5': '2020-01-19T23:11Z', 'latitude':...</td>\n",
       "      <td>NaN</td>\n",
       "    </tr>\n",
       "    <tr>\n",
       "      <th>3</th>\n",
       "      <td>2020-01-22T09:09:00-CME-001</td>\n",
       "      <td>M2M_CATALOG</td>\n",
       "      <td>2020-01-22T09:09Z</td>\n",
       "      <td>NaN</td>\n",
       "      <td>NaN</td>\n",
       "      <td>https://kauai.ccmc.gsfc.nasa.gov/DONKI/view/CM...</td>\n",
       "      <td>There is a data gap in Stereo Ahead EUVI 195 f...</td>\n",
       "      <td>[{'displayName': 'STEREO A: SECCHI/COR2'}]</td>\n",
       "      <td>[{'time21_5': '2020-01-22T22:58Z', 'latitude':...</td>\n",
       "      <td>NaN</td>\n",
       "    </tr>\n",
       "    <tr>\n",
       "      <th>4</th>\n",
       "      <td>2020-01-25T18:54:00-CME-001</td>\n",
       "      <td>M2M_CATALOG</td>\n",
       "      <td>2020-01-25T18:54Z</td>\n",
       "      <td>N04E20</td>\n",
       "      <td>12757.0</td>\n",
       "      <td>https://kauai.ccmc.gsfc.nasa.gov/DONKI/view/CM...</td>\n",
       "      <td>The source of this CME seems to be to be relat...</td>\n",
       "      <td>[{'displayName': 'STEREO A: SECCHI/COR2'}]</td>\n",
       "      <td>[{'time21_5': '2020-01-26T04:27Z', 'latitude':...</td>\n",
       "      <td>NaN</td>\n",
       "    </tr>\n",
       "  </tbody>\n",
       "</table>\n",
       "</div>"
      ],
      "text/plain": [
       "                    activityID      catalog          startTime sourceLocation  \\\n",
       "0  2020-01-05T16:45:00-CME-001  M2M_CATALOG  2020-01-05T16:45Z            NaN   \n",
       "1  2020-01-14T11:09:00-CME-001  M2M_CATALOG  2020-01-14T11:09Z         S05W20   \n",
       "2  2020-01-18T20:12:00-CME-001  M2M_CATALOG  2020-01-18T20:12Z            NaN   \n",
       "3  2020-01-22T09:09:00-CME-001  M2M_CATALOG  2020-01-22T09:09Z            NaN   \n",
       "4  2020-01-25T18:54:00-CME-001  M2M_CATALOG  2020-01-25T18:54Z         N04E20   \n",
       "\n",
       "   activeRegionNum                                               link  \\\n",
       "0              NaN  https://kauai.ccmc.gsfc.nasa.gov/DONKI/view/CM...   \n",
       "1              NaN  https://kauai.ccmc.gsfc.nasa.gov/DONKI/view/CM...   \n",
       "2              NaN  https://kauai.ccmc.gsfc.nasa.gov/DONKI/view/CM...   \n",
       "3              NaN  https://kauai.ccmc.gsfc.nasa.gov/DONKI/view/CM...   \n",
       "4          12757.0  https://kauai.ccmc.gsfc.nasa.gov/DONKI/view/CM...   \n",
       "\n",
       "                                                note  \\\n",
       "0  The source is likely a field line opening seen...   \n",
       "1  It is a super small, narrow and weak CME. The ...   \n",
       "2  The source is unclear and the longitude is an ...   \n",
       "3  There is a data gap in Stereo Ahead EUVI 195 f...   \n",
       "4  The source of this CME seems to be to be relat...   \n",
       "\n",
       "                                         instruments  \\\n",
       "0  [{'displayName': 'STEREO A: SECCHI/COR2'}, {'d...   \n",
       "1         [{'displayName': 'STEREO A: SECCHI/COR2'}]   \n",
       "2  [{'displayName': 'SOHO: LASCO/C2'}, {'displayN...   \n",
       "3         [{'displayName': 'STEREO A: SECCHI/COR2'}]   \n",
       "4         [{'displayName': 'STEREO A: SECCHI/COR2'}]   \n",
       "\n",
       "                                         cmeAnalyses linkedEvents  \n",
       "0  [{'time21_5': '2020-01-06T16:13Z', 'latitude':...          NaN  \n",
       "1  [{'time21_5': '2020-01-15T03:44Z', 'latitude':...          NaN  \n",
       "2  [{'time21_5': '2020-01-19T23:11Z', 'latitude':...          NaN  \n",
       "3  [{'time21_5': '2020-01-22T22:58Z', 'latitude':...          NaN  \n",
       "4  [{'time21_5': '2020-01-26T04:27Z', 'latitude':...          NaN  "
      ]
     },
     "execution_count": 9,
     "metadata": {},
     "output_type": "execute_result"
    }
   ],
   "source": [
    "# carrega os dados em um DataFrame\r\n",
    "upload = pd.read_csv(\"upload_file.csv\")\r\n",
    "# exibe o número de linhas e colunas\r\n",
    "print(upload.shape)\r\n",
    "# imprime as primeiras 5 linhas\r\n",
    "upload.head()"
   ]
  },
  {
   "cell_type": "markdown",
   "metadata": {},
   "source": [
    "Vamos selecionar apenas as informações referentes a dia, mês, ano e hora da ocorrência de ejeção de massa coronal, além de informações da latitude, longitude, ângulo e velocidade da ejeção."
   ]
  },
  {
   "cell_type": "code",
   "execution_count": 10,
   "metadata": {},
   "outputs": [],
   "source": [
    "# cria um novo DataFrame\r\n",
    "df = pd.DataFrame()\r\n",
    "\r\n",
    "# pega a data\r\n",
    "df[\"data\"] = upload.startTime.str[0:10]\r\n",
    "# converte para o formato pandas datatime\r\n",
    "df[\"data\"] = pd.to_datetime(df.data)\r\n",
    "\r\n",
    "df[\"ano\"] = df['data'].dt.year # adiciona o ano\r\n",
    "df[\"mes\"] = df[\"data\"].dt.month # adidiona o M~es\r\n",
    "df['dia_semana'] = df['data'].dt.weekday # adiciona o dia da semana\r\n",
    "df[\"dia\"] = df[\"data\"].dt.day # adiciona o dia do mês\r\n",
    "df[\"hora\"] = upload.startTime.str[12:16]  \r\n",
    "\r\n",
    "# apaga a coluna data\r\n",
    "df.drop(\"data\", axis=1, inplace=True)"
   ]
  },
  {
   "cell_type": "code",
   "execution_count": 11,
   "metadata": {},
   "outputs": [],
   "source": [
    "# cria novas colunas com valores nulos \r\n",
    "df[\"latitude\"] = np.nan\r\n",
    "df[\"longitude\"] = np.nan\r\n",
    "df[\"halfAngle\"] = np.nan\r\n",
    "df[\"velocidade\"] = np.nan \r\n",
    "\r\n",
    "for name in upload[\"cmeAnalyses\"].values:\r\n",
    "    # busca pelas expressões dentro de '[}]' na coluna 'cmeAnalyses'\r\n",
    "    if re.search('[{]', str(name)):\r\n",
    "        # localiza o índice da linha\r\n",
    "        idx = upload[upload[\"cmeAnalyses\"] == name].index.values\r\n",
    "        # divide a string e pega o valor da latitude\r\n",
    "        latitude = str(name).split(sep=\":\")[3].split(\",\")[0]\r\n",
    "        # adiciona na coluna latitude\r\n",
    "        df.loc[idx, \"latitude\"] = str(latitude)\r\n",
    "        \r\n",
    "        #longitude\r\n",
    "        longitude = str(name).split(sep=\":\")[4].split(\",\")[0]\r\n",
    "        df.loc[idx, \"longitude\"] = str(longitude)\r\n",
    "        \r\n",
    "        # ângulo\r\n",
    "        halfAngle = str(name).split(sep=\":\")[5].split(\",\")[0]\r\n",
    "        df.loc[idx, \"halfAngle\"] = str(halfAngle)\r\n",
    "        \r\n",
    "        # velocidade\r\n",
    "        velocidade = str(name).split(sep=\":\")[6].split(\",\")[0]\r\n",
    "        df.loc[idx, \"velocidade\"] = str(velocidade)"
   ]
  },
  {
   "cell_type": "markdown",
   "metadata": {},
   "source": [
    "Pronto! Temos uma nova tabela com os dados limpos. "
   ]
  },
  {
   "cell_type": "code",
   "execution_count": 12,
   "metadata": {},
   "outputs": [
    {
     "data": {
      "text/html": [
       "<div>\n",
       "<style scoped>\n",
       "    .dataframe tbody tr th:only-of-type {\n",
       "        vertical-align: middle;\n",
       "    }\n",
       "\n",
       "    .dataframe tbody tr th {\n",
       "        vertical-align: top;\n",
       "    }\n",
       "\n",
       "    .dataframe thead th {\n",
       "        text-align: right;\n",
       "    }\n",
       "</style>\n",
       "<table border=\"1\" class=\"dataframe\">\n",
       "  <thead>\n",
       "    <tr style=\"text-align: right;\">\n",
       "      <th></th>\n",
       "      <th>ano</th>\n",
       "      <th>mes</th>\n",
       "      <th>dia_semana</th>\n",
       "      <th>dia</th>\n",
       "      <th>hora</th>\n",
       "      <th>latitude</th>\n",
       "      <th>longitude</th>\n",
       "      <th>halfAngle</th>\n",
       "      <th>velocidade</th>\n",
       "    </tr>\n",
       "  </thead>\n",
       "  <tbody>\n",
       "    <tr>\n",
       "      <th>0</th>\n",
       "      <td>2020</td>\n",
       "      <td>1</td>\n",
       "      <td>6</td>\n",
       "      <td>5</td>\n",
       "      <td>6:45</td>\n",
       "      <td>-2.0</td>\n",
       "      <td>9.0</td>\n",
       "      <td>19.0</td>\n",
       "      <td>227.0</td>\n",
       "    </tr>\n",
       "    <tr>\n",
       "      <th>1</th>\n",
       "      <td>2020</td>\n",
       "      <td>1</td>\n",
       "      <td>1</td>\n",
       "      <td>14</td>\n",
       "      <td>1:09</td>\n",
       "      <td>-5.0</td>\n",
       "      <td>12.0</td>\n",
       "      <td>6.0</td>\n",
       "      <td>205.0</td>\n",
       "    </tr>\n",
       "    <tr>\n",
       "      <th>2</th>\n",
       "      <td>2020</td>\n",
       "      <td>1</td>\n",
       "      <td>5</td>\n",
       "      <td>18</td>\n",
       "      <td>0:12</td>\n",
       "      <td>5.0</td>\n",
       "      <td>-115.0</td>\n",
       "      <td>17.0</td>\n",
       "      <td>193.0</td>\n",
       "    </tr>\n",
       "    <tr>\n",
       "      <th>3</th>\n",
       "      <td>2020</td>\n",
       "      <td>1</td>\n",
       "      <td>2</td>\n",
       "      <td>22</td>\n",
       "      <td>9:09</td>\n",
       "      <td>2.0</td>\n",
       "      <td>None</td>\n",
       "      <td>18.0</td>\n",
       "      <td>248.0</td>\n",
       "    </tr>\n",
       "    <tr>\n",
       "      <th>4</th>\n",
       "      <td>2020</td>\n",
       "      <td>1</td>\n",
       "      <td>5</td>\n",
       "      <td>25</td>\n",
       "      <td>8:54</td>\n",
       "      <td>2.0</td>\n",
       "      <td>-17.0</td>\n",
       "      <td>10.0</td>\n",
       "      <td>362.0</td>\n",
       "    </tr>\n",
       "  </tbody>\n",
       "</table>\n",
       "</div>"
      ],
      "text/plain": [
       "    ano  mes  dia_semana  dia  hora latitude longitude halfAngle velocidade\n",
       "0  2020    1           6    5  6:45     -2.0       9.0      19.0      227.0\n",
       "1  2020    1           1   14  1:09     -5.0      12.0       6.0      205.0\n",
       "2  2020    1           5   18  0:12      5.0    -115.0      17.0      193.0\n",
       "3  2020    1           2   22  9:09      2.0      None      18.0      248.0\n",
       "4  2020    1           5   25  8:54      2.0     -17.0      10.0      362.0"
      ]
     },
     "execution_count": 12,
     "metadata": {},
     "output_type": "execute_result"
    }
   ],
   "source": [
    "#exibe o DataFrame limpo\r\n",
    "df.head()"
   ]
  },
  {
   "cell_type": "markdown",
   "metadata": {},
   "source": [
    "## 3. Carregando no MySQL "
   ]
  },
  {
   "cell_type": "markdown",
   "metadata": {},
   "source": [
    "A última etapa é salvar a tabela no banco de dados."
   ]
  },
  {
   "cell_type": "code",
   "execution_count": 19,
   "metadata": {},
   "outputs": [],
   "source": [
    "# conecta ao mysql\r\n",
    "cnx = connect(user='root', passwd='bankai', host='localhost')\r\n",
    "# cria um cursor para navegar no mysql\r\n",
    "cursor = cnx.cursor()\r\n",
    "\r\n",
    "# criando um novo banco de dados chamado 'coronal_mass_ejection'\r\n",
    "cursor.execute(\"CREATE DATABASE coronal_mass_ejection\") \r\n",
    "# acessa o banco de dados \r\n",
    "cursor.execute('USE coronal_mass_ejection')\r\n"
   ]
  },
  {
   "cell_type": "code",
   "execution_count": 26,
   "metadata": {},
   "outputs": [],
   "source": [
    "# cria uma tabela chamada 'coronal' para inserir os dados\r\n",
    "cursor.execute(\"CREATE TABLE coronal (ano INT(64), mes INT(64), dia_semana INT(64), \\\r\n",
    "                                    dia INT(64), hora TIME, latitude INT(64), \\\r\n",
    "                                    longitude INT(64), halfAngle INT(64), velocidade INT(64))\")"
   ]
  },
  {
   "cell_type": "markdown",
   "metadata": {},
   "source": [
    "Para facilitar a inserção dos dados, vamos criar uma função que realize essa tarefa."
   ]
  },
  {
   "cell_type": "code",
   "execution_count": 24,
   "metadata": {},
   "outputs": [],
   "source": [
    "# função para inserir os dados na tabela\n",
    "def insert_data(coronal):\n",
    "    query = \"INSERT INTO coronal (ano, mes, dia_semana, dia, hora, latitude, longitude, halfAngle, velocidade)\\\n",
    "             VALUES (%s,%s,%s,%s,%s,%s,%s,%s,%s)\"\n",
    "\n",
    "    try:\n",
    "        # insere os dados na tabela\n",
    "        cursor.executemany(query, coronal)\n",
    "\n",
    "    except Error as e:\n",
    "        # caso dê erro, imprime mensagem com o erro\n",
    "        print('Error:', e)"
   ]
  },
  {
   "cell_type": "code",
   "execution_count": 28,
   "metadata": {},
   "outputs": [
    {
     "name": "stdout",
     "output_type": "stream",
     "text": [
      "277 linhas foram inseridas.\n"
     ]
    }
   ],
   "source": [
    "# remove os dados nulos, caso existam\r\n",
    "df_null = df.replace(np.nan, 'NULL', regex=True)\r\n",
    "\r\n",
    "# configura de uma tabela DataFrame para uma lista \r\n",
    "coronal_list = df_null.values.tolist()\r\n",
    "\r\n",
    "# insere a lista na tabela do banco de dados com a ajuda da função\r\n",
    "insert_data(coronal_list)\r\n",
    "\r\n",
    "# commitando os dados adicionados\r\n",
    "cnx.commit()\r\n",
    "\r\n",
    "# imprime quantas linhas de dados foram inseridas no banco de dados\r\n",
    "print(cursor.rowcount, \"linhas foram inseridas.\")"
   ]
  },
  {
   "cell_type": "code",
   "execution_count": 29,
   "metadata": {},
   "outputs": [],
   "source": [
    "# fecha a conexão com o mysql\n",
    "cnx.close()"
   ]
  },
  {
   "cell_type": "markdown",
   "metadata": {},
   "source": [
    "Pronto! Temos nosso pipeline finalizado."
   ]
  },
  {
   "cell_type": "markdown",
   "metadata": {},
   "source": [
    "## 4. Conclusão\r\n",
    "\r\n",
    "Criamos um modelo de pipeline ETL que extraí dados de uma API da NASA, transforma e limpa os dados e os salva em um banco de dados MySQL."
   ]
  },
  {
   "cell_type": "code",
   "execution_count": null,
   "metadata": {},
   "outputs": [],
   "source": []
  }
 ],
 "metadata": {
  "kernelspec": {
   "display_name": "Python 3.7.6 64-bit ('base': conda)",
   "name": "python376jvsc74a57bd0611cf997d5a3904788d8bf9711afacc9acf0278f5ab751438d0be3f34b870c8a"
  },
  "language_info": {
   "name": "python",
   "version": ""
  }
 },
 "nbformat": 4,
 "nbformat_minor": 5
}